{
 "cells": [
  {
   "cell_type": "code",
   "execution_count": 1,
   "id": "72d141a2",
   "metadata": {},
   "outputs": [],
   "source": [
    "import numpy as np\n",
    "import pandas as pd\n",
    "import matplotlib.pyplot as plt\n",
    "import os"
   ]
  },
  {
   "cell_type": "code",
   "execution_count": 2,
   "id": "ad25943b",
   "metadata": {},
   "outputs": [],
   "source": [
    "import tarfile\n",
    "my_tar = tarfile.open('cifar-10-python.tar.gz')\n",
    "my_tar.extractall('./dataset')\n",
    "my_tar.close()"
   ]
  },
  {
   "cell_type": "code",
   "execution_count": 3,
   "id": "4a9f3313",
   "metadata": {},
   "outputs": [],
   "source": [
    "import pickle\n",
    "def unpickle(file):\n",
    "    with open(file, 'rb') as fo:\n",
    "        dict = pickle.load(fo, encoding='bytes')\n",
    "    return dict\n",
    "\n",
    "path = os.path.join('dataset', 'cifar-10-batches-py')\n",
    "train_data = []\n",
    "for i in range(1, 6):\n",
    "    data = unpickle(path + '/data_batch_' + str(i))\n",
    "    train_data.append(data)"
   ]
  },
  {
   "cell_type": "code",
   "execution_count": 4,
   "id": "84904a30",
   "metadata": {},
   "outputs": [],
   "source": [
    "batch_label = unpickle(path + '/batches.meta')"
   ]
  },
  {
   "cell_type": "code",
   "execution_count": 5,
   "id": "eab3bb9f",
   "metadata": {},
   "outputs": [
    {
     "data": {
      "text/plain": [
       "(10000, 3072)"
      ]
     },
     "execution_count": 5,
     "metadata": {},
     "output_type": "execute_result"
    }
   ],
   "source": [
    "data_arr = np.array(train_data[0][b'data'])\n",
    "data_arr.shape"
   ]
  },
  {
   "cell_type": "code",
   "execution_count": 6,
   "id": "5e0fd758",
   "metadata": {},
   "outputs": [
    {
     "data": {
      "text/plain": [
       "dict_keys([b'batch_label', b'labels', b'data', b'filenames'])"
      ]
     },
     "execution_count": 6,
     "metadata": {},
     "output_type": "execute_result"
    }
   ],
   "source": [
    "data.keys()"
   ]
  },
  {
   "cell_type": "code",
   "execution_count": 7,
   "id": "db3c8499",
   "metadata": {},
   "outputs": [],
   "source": [
    "data_arr = data_arr[8, :]"
   ]
  },
  {
   "cell_type": "code",
   "execution_count": 8,
   "id": "cac9d88d",
   "metadata": {},
   "outputs": [],
   "source": [
    "data_arr = data_arr.reshape(3, 32, 32)"
   ]
  },
  {
   "cell_type": "code",
   "execution_count": 9,
   "id": "81c654f3",
   "metadata": {},
   "outputs": [
    {
     "data": {
      "text/plain": [
       "<matplotlib.image.AxesImage at 0x28a51001310>"
      ]
     },
     "execution_count": 9,
     "metadata": {},
     "output_type": "execute_result"
    },
    {
     "data": {
      "image/png": "[encoded data removed]",
      "text/plain": [
       "<Figure size 432x288 with 1 Axes>"
      ]
     },
     "metadata": {
      "needs_background": "light"
     },
     "output_type": "display_data"
    }
   ],
   "source": [
    "data_arr = data_arr.transpose([1,2,0])\n",
    "plt.subplot(331)\n",
    "plt.imshow(data_arr)"
   ]
  },
  {
   "cell_type": "code",
   "execution_count": 10,
   "id": "942818f3",
   "metadata": {},
   "outputs": [],
   "source": [
    "train_data_image_arr = []\n",
    "train_data_label_arr = []\n",
    "for i in range(len(train_data)):\n",
    "    train_data_image_arr.append(train_data[i][b'data'])\n",
    "    train_data_label_arr.append(train_data[i][b'labels'])"
   ]
  },
  {
   "cell_type": "code",
   "execution_count": 11,
   "id": "755e0f34",
   "metadata": {},
   "outputs": [
    {
     "name": "stdout",
     "output_type": "stream",
     "text": [
      "Shape of Train Data image set: (5, 10000, 3072)\n",
      "Shape of Train Data lavel set: (5, 10000)\n"
     ]
    }
   ],
   "source": [
    "train_data_image_arr = np.array(train_data_image_arr)\n",
    "train_data_label_arr = np.array(train_data_label_arr)\n",
    "print(f\"Shape of Train Data image set: {train_data_image_arr.shape}\")\n",
    "print(f\"Shape of Train Data lavel set: {train_data_label_arr.shape}\")"
   ]
  },
  {
   "cell_type": "code",
   "execution_count": 12,
   "id": "015ff60e",
   "metadata": {},
   "outputs": [
    {
     "name": "stdout",
     "output_type": "stream",
     "text": [
      "Shape of Train Data image set: (50000, 3072)\n"
     ]
    }
   ],
   "source": [
    "train_data_image_arr = train_data_image_arr.reshape(-1, 3072)\n",
    "print(f\"Shape of Train Data image set: {train_data_image_arr.shape}\")"
   ]
  },
  {
   "cell_type": "code",
   "execution_count": 13,
   "id": "9ce80b4d",
   "metadata": {},
   "outputs": [
    {
     "name": "stdout",
     "output_type": "stream",
     "text": [
      "Shape of Train Data lavel set: (50000, 1)\n"
     ]
    }
   ],
   "source": [
    "train_data_label_arr = train_data_label_arr.reshape(50000, -1)\n",
    "print(f\"Shape of Train Data lavel set: {train_data_label_arr.shape}\")"
   ]
  },
  {
   "cell_type": "code",
   "execution_count": 14,
   "id": "3d8c417e",
   "metadata": {},
   "outputs": [],
   "source": [
    "img = train_data_image_arr[8].reshape(3,32,32)\n",
    "img_label = train_data_label_arr[8]"
   ]
  },
  {
   "cell_type": "code",
   "execution_count": 15,
   "id": "79266c41",
   "metadata": {},
   "outputs": [
    {
     "data": {
      "text/plain": [
       "array([[[134, 131, 128, ..., 127, 127, 128],\n",
       "        [133, 129, 128, ..., 127, 127, 128],\n",
       "        [128, 127, 128, ..., 126, 126, 126],\n",
       "        ...,\n",
       "        [174, 171, 155, ...,  27,  29,  28],\n",
       "        [194, 189, 159, ...,  30,  30,  30],\n",
       "        [193, 181, 168, ...,  31,  32,  32]],\n",
       "\n",
       "       [[186, 184, 182, ..., 181, 181, 182],\n",
       "        [189, 186, 186, ..., 183, 183, 184],\n",
       "        [185, 182, 182, ..., 181, 181, 180],\n",
       "        ...,\n",
       "        [208, 206, 189, ...,  94,  96,  94],\n",
       "        [221, 215, 196, ...,  95,  96,  95],\n",
       "        [217, 208, 201, ...,  94,  94,  94]],\n",
       "\n",
       "       [[223, 220, 218, ..., 222, 222, 223],\n",
       "        [228, 224, 224, ..., 224, 224, 225],\n",
       "        [226, 223, 223, ..., 222, 222, 221],\n",
       "        ...,\n",
       "        [235, 229, 216, ..., 136, 137, 136],\n",
       "        [244, 239, 225, ..., 138, 139, 140],\n",
       "        [237, 230, 227, ..., 136, 137, 138]]], dtype=uint8)"
      ]
     },
     "execution_count": 15,
     "metadata": {},
     "output_type": "execute_result"
    }
   ],
   "source": [
    "img"
   ]
  },
  {
   "cell_type": "code",
   "execution_count": 16,
   "id": "beb367bf",
   "metadata": {},
   "outputs": [
    {
     "data": {
      "text/plain": [
       "Text(0.5, 1.0, 'Ship')"
      ]
     },
     "execution_count": 16,
     "metadata": {},
     "output_type": "execute_result"
    },
    {
     "data": {
      "image/png": "[encoded data removed]",
      "text/plain": [
       "<Figure size 432x288 with 1 Axes>"
      ]
     },
     "metadata": {
      "needs_background": "light"
     },
     "output_type": "display_data"
    }
   ],
   "source": [
    "plt.imshow(img.transpose([1,2,0]))\n",
    "plt.title('Ship')"
   ]
  },
  {
   "cell_type": "code",
   "execution_count": 17,
   "id": "3a71de97",
   "metadata": {},
   "outputs": [
    {
     "name": "stdout",
     "output_type": "stream",
     "text": [
      "Shape of x_train : (3072, 5000)\n",
      "Shape of x_test : (3072, 45000)\n",
      "Shape of y_train : (5000,)\n",
      "Shape of y_test : (45000,)\n"
     ]
    }
   ],
   "source": [
    "x_train = train_data_image_arr[:5000, :].T /255\n",
    "x_test = train_data_image_arr[5000:, :].T /255\n",
    "y_train = train_data_label_arr[:5000, ].reshape(5000,)\n",
    "y_test = train_data_label_arr[5000:,].reshape(45000,)\n",
    "print(f\"Shape of x_train : {x_train.shape}\")\n",
    "print(f\"Shape of x_test : {x_test.shape}\")\n",
    "print(f\"Shape of y_train : {y_train.shape}\")\n",
    "print(f\"Shape of y_test : {y_test.shape}\")"
   ]
  },
  {
   "cell_type": "markdown",
   "id": "4975efc2",
   "metadata": {},
   "source": [
    "### ANN 5 layer with relu, relu, sigmoid and softmax activations"
   ]
  },
  {
   "cell_type": "markdown",
   "id": "0054b5b7",
   "metadata": {},
   "source": [
    "#### Helper Functions"
   ]
  },
  {
   "cell_type": "code",
   "execution_count": 18,
   "id": "0738e6bf",
   "metadata": {},
   "outputs": [],
   "source": [
    "def weights_initializer(n_x, nh_1, nh_2, nh_3, nh_4, n_y):\n",
    "    \n",
    "    n = {\n",
    "        \"n1\" : n_x,\n",
    "        \"n2\" : nh_1,\n",
    "        \"n3\" : n_h2,\n",
    "        \"n4\" : n_h3,\n",
    "        \"n5\" : n_h4,\n",
    "        \"n6\" : n_y \n",
    "    }\n",
    "    \n",
    "    # He initialization\n",
    "#     W1 = np.random.randn(n[\"n2\"], n[\"n1\"]) * np.sqrt(2/(n[\"n1\"])) \n",
    "#     b1 = np.zeros((n[\"n2\"], 1))\n",
    "#     W2 = np.random.randn(n[\"n3\"], n[\"n2\"]) * np.sqrt(2/(n[\"n2\"])) \n",
    "#     b2 = np.zeros((n[\"n3\"], 1))\n",
    "#     W3 = np.random.randn(n[\"n4\"]) * np.sqrt(2/(n[\"n3\"])) \n",
    "#     b3 = np.zeros((n[\"n4\"], 1))\n",
    "#     W4 = np.random.randn(n[\"n5\"], n[\"n4\"]) * np.sqrt(2/(n[\"n4\"])) \n",
    "#     b4 = np.zeros((n[\"n5\"], 1))\n",
    "#     W5 = np.random.randn(n[\"n6\"], n[\"n5\"]) * np.sqrt(2/(n[\"n5\"])) \n",
    "#     b5 = np.zeros((n[\"n6\"], 1))\n",
    "\n",
    "\n",
    "    W1 = np.array(np.random.randn(n[\"n2\"], n[\"n1\"]), dtype=np.float64) * np.sqrt(2/(n[\"n1\"])) \n",
    "    b1 = np.zeros((n[\"n2\"], 1))\n",
    "    W2 = np.array(np.random.randn(n[\"n3\"], n[\"n2\"]), dtype=np.float64) * np.sqrt(2/(n[\"n2\"])) \n",
    "    b2 = np.zeros((n[\"n3\"], 1))\n",
    "    W3 = np.array(np.random.randn(n[\"n4\"], n[\"n3\"]), dtype=np.float64) * np.sqrt(2/(n[\"n3\"])) \n",
    "    b3 = np.zeros((n[\"n4\"], 1))\n",
    "    W4 = np.array(np.random.randn(n[\"n5\"], n[\"n4\"]), dtype=np.float64) * np.sqrt(2/(n[\"n4\"])) \n",
    "    b4 = np.zeros((n[\"n5\"], 1))\n",
    "    W5 = np.array(np.random.randn(n[\"n6\"], n[\"n5\"]), dtype=np.float64) * np.sqrt(2/(n[\"n5\"])) \n",
    "    b5 = np.zeros((n[\"n6\"], 1))\n",
    "    \n",
    "    parameters = {\n",
    "          \"W1\" : W1, \n",
    "          \"W2\" : W2,\n",
    "          \"W3\" : W3,\n",
    "          \"W4\" : W4,\n",
    "          \"W5\" : W5,\n",
    "          \"b1\" : b1,\n",
    "          \"b2\" : b2,\n",
    "          \"b3\" : b3,\n",
    "          \"b4\" : b4,\n",
    "          \"b5\" : b5  \n",
    "        }\n",
    "        \n",
    "    return parameters\n",
    "\n",
    "def sigmoid(z):\n",
    "    return 1/(1+np.exp(-z))\n",
    "\n",
    "def ReLU(z):\n",
    "    return np.maximum(0,z)\n",
    "\n",
    "def softmax(z):\n",
    "    return np.exp(z)/sum(np.exp(z) + 1e-8)\n",
    "\n",
    "def sigmoid_prime(z):\n",
    "    return sigmoid(z) * (1-sigmoid(z))\n",
    "\n",
    "def ReLU_prime(z):\n",
    "    return z>0\n",
    "\n",
    "def compute_z(W, X, b):\n",
    "    return np.dot(W, X) + b\n",
    "\n",
    "def compute_activation(z, activation):\n",
    "    if(activation == \"sigmoid\"):\n",
    "        return sigmoid(z)\n",
    "    elif(activation == \"relu\"):\n",
    "        return ReLU(z)\n",
    "    elif(activation == \"softmax\"):\n",
    "        return softmax(z)\n",
    "\n",
    "def one_hot(Y):\n",
    "    one_hot_Y = np.zeros((Y.size, Y.max() + 1))\n",
    "    one_hot_Y[np.arange(Y.size), Y] = 1\n",
    "    one_hot_Y = one_hot_Y.T\n",
    "    return one_hot_Y\n",
    "\n",
    "def get_predictions(A5):\n",
    "    return np.argmax(A5, 0)\n",
    "\n",
    "def get_accuracy(predictions, Y):\n",
    "    print(predictions, Y)\n",
    "    return np.sum(predictions == Y) / Y.size\n",
    "\n",
    "def compute_cost(A5, Y):\n",
    "    m = A5.shape[1]\n",
    "    cost = -(1/m)*np.sum(Y*np.log(A5))\n",
    "    return cost"
   ]
  },
  {
   "cell_type": "markdown",
   "id": "fd889ba5",
   "metadata": {},
   "source": [
    "### Adam Optimization (optimization technique for updating parameters; used in place of gd to tune the convergence)"
   ]
  },
  {
   "cell_type": "code",
   "execution_count": 19,
   "id": "fed6cfb8",
   "metadata": {},
   "outputs": [],
   "source": [
    "def initialize_v_s(parameters): \n",
    "    v = {}\n",
    "    s = {}\n",
    "    \n",
    "    for l in range(1, 6):\n",
    "        \n",
    "        v[\"dW\" + str(l)] = np.zeros((parameters[\"W\" + str(l)].shape[0], parameters[\"W\" + str(l)].shape[1]))\n",
    "        v[\"db\" + str(l)] = np.zeros((parameters[\"b\" + str(l)].shape[0], parameters[\"b\" + str(l)].shape[1])) \n",
    "        s[\"dW\" + str(l)] = np.zeros((parameters[\"W\" + str(l)].shape[0], parameters[\"W\" + str(l)].shape[1])) \n",
    "        s[\"db\" + str(l)] = np.zeros((parameters[\"b\" + str(l)].shape[0], parameters[\"b\" + str(l)].shape[1])) \n",
    "\n",
    "    return v, s\n",
    "     \n",
    "def update_params(learning_rate, parameters, v, s, grads, t, beta1, beta2, epsilon):\n",
    "    \n",
    "    v_corrected = {}                        \n",
    "    s_corrected = {}                    \n",
    "    \n",
    "    for l in range(1, 6):\n",
    "        \n",
    "        v[\"dW\" + str(l)] = beta1 * v[\"dW\" + str(l)] + (1-beta1) * grads[\"dW\" + str(l)] \n",
    "        v[\"db\" + str(l)] = beta1 * v[\"db\" + str(l)] + (1-beta1) * grads[\"db\" + str(l)] \n",
    "        \n",
    "        v_corrected[\"dW\" + str(l)] = v[\"dW\" + str(l)] / (1 - beta1 ** t)\n",
    "        v_corrected[\"db\" + str(l)] = v[\"db\" + str(l)] / (1 - beta1 ** t)\n",
    "        \n",
    "        s[\"dW\" + str(l)] = beta2 * s[\"dW\" + str(l)] + (1-beta2) * np.square(grads[\"dW\" + str(l)]) \n",
    "        s[\"db\" + str(l)] = beta2 * s[\"db\" + str(l)] + (1-beta2) * np.square(grads[\"db\" + str(l)])\n",
    "        \n",
    "        s_corrected[\"dW\" + str(l)] = s[\"dW\" + str(l)]/ (1 - beta2 ** t)\n",
    "        s_corrected[\"db\" + str(l)] = s[\"db\" + str(l)]/ (1 - beta2 ** t)\n",
    "        \n",
    "        parameters[\"W\" + str(l)] = parameters[\"W\" + str(l)] - learning_rate * v_corrected[\"dW\" + str(l)]/(np.sqrt(s_corrected[\"dW\" + str(l)]) + epsilon)\n",
    "        parameters[\"b\" + str(l)] = parameters[\"b\" + str(l)] - learning_rate * v_corrected[\"db\" + str(l)]/(np.sqrt(s_corrected[\"db\" + str(l)]) + epsilon)\n",
    "\n",
    "    return parameters, v, s, v_corrected, s_corrected"
   ]
  },
  {
   "cell_type": "markdown",
   "id": "b9790f0f",
   "metadata": {},
   "source": [
    "### Forward Propagation"
   ]
  },
  {
   "cell_type": "code",
   "execution_count": 20,
   "id": "0b10371f",
   "metadata": {},
   "outputs": [],
   "source": [
    "def forward_prop(X, parameters):\n",
    "    \n",
    "    W1 = parameters[\"W1\"]\n",
    "    W2 = parameters[\"W2\"]\n",
    "    W3 = parameters[\"W3\"]\n",
    "    W4 = parameters[\"W4\"]\n",
    "    W5 = parameters[\"W5\"]\n",
    "    b1 = parameters[\"b1\"]\n",
    "    b2 = parameters[\"b2\"]\n",
    "    b3 = parameters[\"b3\"]\n",
    "    b4 = parameters[\"b4\"]\n",
    "    b5 = parameters[\"b5\"]\n",
    "    \n",
    "    Z1 = compute_z(W1, X, b1)\n",
    "    A1 = compute_activation(Z1, \"sigmoid\")\n",
    "    \n",
    "    Z2 = compute_z(W2, A1, b2)\n",
    "    A2 = compute_activation(Z2, \"relu\")\n",
    "    \n",
    "    Z3 = compute_z(W3, A2, b3)\n",
    "    A3 = compute_activation(Z3, \"relu\")\n",
    "    \n",
    "    Z4 = compute_z(W4, A3, b4)\n",
    "    A4 = compute_activation(Z4, \"sigmoid\")\n",
    "    \n",
    "    Z5 = compute_z(W5, A4, b5)\n",
    "    A5 = compute_activation(Z5, \"softmax\")\n",
    "    \n",
    "    cache = {\n",
    "              \"A0\" : X, \n",
    "              \"A1\" : A1,\n",
    "              \"A2\" : A2,\n",
    "              \"A3\" : A3,\n",
    "              \"A4\" : A4,\n",
    "              \"A5\" : A5,\n",
    "              \"Z1\" : Z1,\n",
    "              \"Z2\" : Z2,\n",
    "              \"Z3\" : Z3,\n",
    "              \"Z4\" : Z4,\n",
    "              \"Z5\" : Z5\n",
    "            }\n",
    "            \n",
    "    return cache, parameters"
   ]
  },
  {
   "cell_type": "markdown",
   "id": "52b79f2b",
   "metadata": {},
   "source": [
    "### Backward Propagation"
   ]
  },
  {
   "cell_type": "code",
   "execution_count": 21,
   "id": "5145df5f",
   "metadata": {},
   "outputs": [],
   "source": [
    "def backward_prop(X, Y, cache, parameters):\n",
    "    \n",
    "#     Y = one_hot(Y)\n",
    "    \n",
    "    W1 = parameters[\"W1\"]\n",
    "    W2 = parameters[\"W2\"]\n",
    "    W3 = parameters[\"W3\"]\n",
    "    W4 = parameters[\"W4\"]\n",
    "    W5 = parameters[\"W5\"]\n",
    "    b1 = parameters[\"b1\"]\n",
    "    b2 = parameters[\"b2\"]\n",
    "    b3 = parameters[\"b3\"]\n",
    "    b4 = parameters[\"b4\"]\n",
    "    b5 = parameters[\"b5\"]\n",
    "\n",
    "    Z1 = cache[\"Z1\"]\n",
    "    Z2 = cache[\"Z2\"]\n",
    "    Z3 = cache[\"Z3\"]\n",
    "    Z4 = cache[\"Z4\"]\n",
    "    Z5 = cache[\"Z5\"]\n",
    "    A1 = cache[\"A1\"]\n",
    "    A2 = cache[\"A2\"]\n",
    "    A3 = cache[\"A3\"]\n",
    "    A4 = cache[\"A4\"]\n",
    "    A5 = cache[\"A5\"]\n",
    "    \n",
    "    m = W1.shape[1]\n",
    "    \n",
    "    dZ5 = A5 - Y\n",
    "    dW5 = (1/m)*np.dot(dZ5, A4.T)\n",
    "    db5 = (1/m)*np.sum(dZ5, axis = 1, keepdims=True) \n",
    "    \n",
    "    dZ4 = np.dot(W5.T , dZ5) * sigmoid_prime(Z4)\n",
    "    dW4 = (1/m)*np.dot(dZ4, A3.T)\n",
    "    db4 = (1/m)*np.sum(dZ4, axis = 1, keepdims=True)\n",
    "\n",
    "    dZ3 = np.dot(W4.T , dZ4) * ReLU_prime(Z3)\n",
    "    dW3 = (1/m)*np.dot(dZ3, A2.T)\n",
    "    db3 = (1/m)*np.sum(dZ3, axis = 1, keepdims=True)\n",
    "    \n",
    "    dZ2 = np.dot(W3.T , dZ3) * ReLU_prime(Z2)\n",
    "    dW2 = (1/m)*np.dot(dZ2, A1.T)\n",
    "    db2 = (1/m)*np.sum(dZ2, axis = 1, keepdims=True)\n",
    "\n",
    "    dZ1 = np.dot(W2.T , dZ2) * sigmoid_prime(Z1)\n",
    "    dW1 = (1/m)*np.dot(dZ1, X.T)\n",
    "    db1 = (1/m)*np.sum(dZ1, axis = 1, keepdims=True)\n",
    "    \n",
    "    grads = {\n",
    "              \"dZ1\" : dZ1, \n",
    "              \"dZ2\" : dZ2,\n",
    "              \"dZ3\" : dZ3,\n",
    "              \"dZ4\" : dZ4,\n",
    "              \"dZ5\" : dZ5,\n",
    "              \"dW1\" : dW1, \n",
    "              \"dW2\" : dW2,\n",
    "              \"dW3\" : dW3,\n",
    "              \"dW4\" : dW4,\n",
    "              \"dW5\" : dW5,\n",
    "              \"db1\" : db1,\n",
    "              \"db2\" : db2,\n",
    "              \"db3\" : db3,\n",
    "              \"db4\" : db4,\n",
    "              \"db5\" : db5\n",
    "            }\n",
    "     \n",
    "    return grads"
   ]
  },
  {
   "cell_type": "code",
   "execution_count": 22,
   "id": "570e4505",
   "metadata": {},
   "outputs": [],
   "source": [
    "def update_parameters(parameters, grads, learning_rate):\n",
    "    \n",
    "    parameters[\"W1\"] = parameters[\"W1\"] - learning_rate * grads[\"dW1\"]\n",
    "    parameters[\"W2\"] = parameters[\"W2\"] - learning_rate * grads[\"dW2\"]\n",
    "    parameters[\"W3\"] = parameters[\"W3\"] - learning_rate * grads[\"dW3\"]\n",
    "    parameters[\"W4\"] = parameters[\"W4\"] - learning_rate * grads[\"dW4\"]\n",
    "    parameters[\"W5\"] = parameters[\"W5\"] - learning_rate * grads[\"dW5\"]\n",
    "    parameters[\"b1\"] = parameters[\"b1\"] - learning_rate * grads[\"db1\"]\n",
    "    parameters[\"b2\"] = parameters[\"b2\"] - learning_rate * grads[\"db2\"]\n",
    "    parameters[\"b3\"] = parameters[\"b3\"] - learning_rate * grads[\"db3\"]\n",
    "    parameters[\"b4\"] = parameters[\"b4\"] - learning_rate * grads[\"db4\"]\n",
    "    parameters[\"b5\"] = parameters[\"b5\"] - learning_rate * grads[\"db5\"]\n",
    "    \n",
    "    return parameters"
   ]
  },
  {
   "cell_type": "markdown",
   "id": "0ba90a93",
   "metadata": {},
   "source": [
    "### Gradient Descent Updation"
   ]
  },
  {
   "cell_type": "code",
   "execution_count": 23,
   "id": "df4415a3",
   "metadata": {},
   "outputs": [],
   "source": [
    "def gradient_descent(X, Y, epoch, learning_rate, n_x, nh_1, nh_2, nh_3, nh_4, n_y):\n",
    "    one_hot_Y = one_hot(Y)\n",
    "    parameters = weights_initializer(n_x, nh_1, nh_2, nh_3, nh_4, n_y)\n",
    "    for i in range(epoch):\n",
    "        cache, parameters = forward_prop(X, parameters)\n",
    "        grads = backward_prop(X, one_hot_Y, cache, parameters)\n",
    "        parameters = update_parameters(parameters, grads, learning_rate)\n",
    "        if(i%10 == 0):\n",
    "            print(\"Iteration: \", i)\n",
    "            predictions = get_predictions(cache[\"A5\"])\n",
    "            print(\"accuracy: \",get_accuracy(predictions, Y))\n",
    "            cost = compute_cost(cache[\"A5\"], one_hot_Y)\n",
    "            print(cost)\n",
    "    return parameters\n",
    "    "
   ]
  },
  {
   "cell_type": "markdown",
   "id": "72329c08",
   "metadata": {},
   "source": [
    "### Updation using Adam Optimization"
   ]
  },
  {
   "cell_type": "code",
   "execution_count": 24,
   "id": "8e4d9716",
   "metadata": {},
   "outputs": [],
   "source": [
    "def adam_model(X, Y, epoch, learning_rate, n_x, nh_1, nh_2, nh_3, nh_4, n_y):\n",
    "    \n",
    "    one_hot_Y = one_hot(Y)\n",
    "    \n",
    "    parameters = weights_initializer(n_x, nh_1, nh_2, nh_3, nh_4, n_y)\n",
    "    v,s = initialize_v_s(parameters)\n",
    "#     print(parameters[\"W1\"].shape) \n",
    "    t=0\n",
    "    for i in range(epoch):\n",
    "        t=t+1\n",
    "        cache, parameters = forward_prop(X, parameters)\n",
    "        grads = backward_prop(X, one_hot_Y, cache, parameters)\n",
    "        parameters, v, s, v_corrected, s_corrected = update_params(learning_rate, parameters, v, s, grads, t, beta1=0.9, beta2=0.999, epsilon=1e-8)\n",
    "\n",
    "        if(i%10 == 0):\n",
    "            print(\"Iteration: \", i)\n",
    "            predictions = get_predictions(cache[\"A5\"])\n",
    "            print(\"accuracy: \",get_accuracy(predictions, Y))\n",
    "            cost = compute_cost(cache[\"A5\"], one_hot_Y)\n",
    "            print(\"cost: \", cost)\n",
    "            if(get_accuracy(predictions, Y) >= 0.98):\n",
    "                return parameters, cache\n",
    "    return parameters, cache"
   ]
  },
  {
   "cell_type": "code",
   "execution_count": 25,
   "id": "24c7e377",
   "metadata": {
    "scrolled": true
   },
   "outputs": [
    {
     "name": "stdout",
     "output_type": "stream",
     "text": [
      "Iteration:  0\n",
      "[4 4 4 ... 4 4 4] [6 9 9 ... 5 4 6]\n",
      "accuracy:  0.1038\n",
      "cost:  2.3981024850763886\n",
      "[4 4 4 ... 4 4 4] [6 9 9 ... 5 4 6]\n",
      "Iteration:  10\n",
      "[6 8 9 ... 9 2 6] [6 9 9 ... 5 4 6]\n",
      "accuracy:  0.2584\n",
      "cost:  2.1378486880916316\n",
      "[6 8 9 ... 9 2 6] [6 9 9 ... 5 4 6]\n",
      "Iteration:  20\n",
      "[6 8 9 ... 9 6 4] [6 9 9 ... 5 4 6]\n",
      "accuracy:  0.2776\n",
      "cost:  2.010186438467114\n",
      "[6 8 9 ... 9 6 4] [6 9 9 ... 5 4 6]\n",
      "Iteration:  30\n",
      "[6 8 9 ... 7 6 4] [6 9 9 ... 5 4 6]\n",
      "accuracy:  0.321\n",
      "cost:  1.8913338999083507\n",
      "[6 8 9 ... 7 6 4] [6 9 9 ... 5 4 6]\n",
      "Iteration:  40\n",
      "[6 1 9 ... 1 4 4] [6 9 9 ... 5 4 6]\n",
      "accuracy:  0.3512\n",
      "cost:  1.813758683501235\n",
      "[6 1 9 ... 1 4 4] [6 9 9 ... 5 4 6]\n",
      "Iteration:  50\n",
      "[6 1 9 ... 6 2 4] [6 9 9 ... 5 4 6]\n",
      "accuracy:  0.378\n",
      "cost:  1.7466551187978647\n",
      "[6 1 9 ... 6 2 4] [6 9 9 ... 5 4 6]\n",
      "Iteration:  60\n",
      "[6 1 9 ... 3 6 6] [6 9 9 ... 5 4 6]\n",
      "accuracy:  0.3752\n",
      "cost:  1.742546909462162\n",
      "[6 1 9 ... 3 6 6] [6 9 9 ... 5 4 6]\n",
      "Iteration:  70\n",
      "[6 1 9 ... 6 2 4] [6 9 9 ... 5 4 6]\n",
      "accuracy:  0.4096\n",
      "cost:  1.6609722663984992\n",
      "[6 1 9 ... 6 2 4] [6 9 9 ... 5 4 6]\n",
      "Iteration:  80\n",
      "[6 1 9 ... 9 2 4] [6 9 9 ... 5 4 6]\n",
      "accuracy:  0.4024\n",
      "cost:  1.6789911929713988\n",
      "[6 1 9 ... 9 2 4] [6 9 9 ... 5 4 6]\n",
      "Iteration:  90\n",
      "[6 1 9 ... 3 2 4] [6 9 9 ... 5 4 6]\n",
      "accuracy:  0.4408\n",
      "cost:  1.5757118806628778\n",
      "[6 1 9 ... 3 2 4] [6 9 9 ... 5 4 6]\n",
      "Iteration:  100\n",
      "[6 1 9 ... 3 2 4] [6 9 9 ... 5 4 6]\n",
      "accuracy:  0.4538\n",
      "cost:  1.5354707512001835\n",
      "[6 1 9 ... 3 2 4] [6 9 9 ... 5 4 6]\n",
      "Iteration:  110\n",
      "[6 1 9 ... 9 2 4] [6 9 9 ... 5 4 6]\n",
      "accuracy:  0.4656\n",
      "cost:  1.5095879849221354\n",
      "[6 1 9 ... 9 2 4] [6 9 9 ... 5 4 6]\n",
      "Iteration:  120\n",
      "[6 1 9 ... 9 2 4] [6 9 9 ... 5 4 6]\n",
      "accuracy:  0.4872\n",
      "cost:  1.4564652962150273\n",
      "[6 1 9 ... 9 2 4] [6 9 9 ... 5 4 6]\n",
      "Iteration:  130\n",
      "[6 1 9 ... 9 2 4] [6 9 9 ... 5 4 6]\n",
      "accuracy:  0.468\n",
      "cost:  1.4879669147013967\n",
      "[6 1 9 ... 9 2 4] [6 9 9 ... 5 4 6]\n",
      "Iteration:  140\n",
      "[6 1 9 ... 9 2 4] [6 9 9 ... 5 4 6]\n",
      "accuracy:  0.4542\n",
      "cost:  1.4997515460761248\n",
      "[6 1 9 ... 9 2 4] [6 9 9 ... 5 4 6]\n",
      "Iteration:  150\n",
      "[6 1 9 ... 9 2 4] [6 9 9 ... 5 4 6]\n",
      "accuracy:  0.5068\n",
      "cost:  1.3949695178860166\n",
      "[6 1 9 ... 9 2 4] [6 9 9 ... 5 4 6]\n",
      "Iteration:  160\n",
      "[6 1 9 ... 9 2 6] [6 9 9 ... 5 4 6]\n",
      "accuracy:  0.5408\n",
      "cost:  1.3191378952817667\n",
      "[6 1 9 ... 9 2 6] [6 9 9 ... 5 4 6]\n",
      "Iteration:  170\n",
      "[6 1 9 ... 9 2 6] [6 9 9 ... 5 4 6]\n",
      "accuracy:  0.5244\n",
      "cost:  1.3464180715197442\n",
      "[6 1 9 ... 9 2 6] [6 9 9 ... 5 4 6]\n",
      "Iteration:  180\n",
      "[6 1 9 ... 9 2 4] [6 9 9 ... 5 4 6]\n",
      "accuracy:  0.5534\n",
      "cost:  1.2715775252860715\n",
      "[6 1 9 ... 9 2 4] [6 9 9 ... 5 4 6]\n",
      "Iteration:  190\n",
      "[6 1 9 ... 3 2 6] [6 9 9 ... 5 4 6]\n",
      "accuracy:  0.5686\n",
      "cost:  1.228867318677412\n",
      "[6 1 9 ... 3 2 6] [6 9 9 ... 5 4 6]\n",
      "Iteration:  200\n",
      "[6 8 9 ... 6 2 6] [6 9 9 ... 5 4 6]\n",
      "accuracy:  0.5562\n",
      "cost:  1.2860354770069258\n",
      "[6 8 9 ... 6 2 6] [6 9 9 ... 5 4 6]\n",
      "Iteration:  210\n",
      "[6 1 9 ... 9 2 6] [6 9 9 ... 5 4 6]\n",
      "accuracy:  0.6014\n",
      "cost:  1.164874920316032\n",
      "[6 1 9 ... 9 2 6] [6 9 9 ... 5 4 6]\n",
      "Iteration:  220\n",
      "[6 8 9 ... 6 2 6] [6 9 9 ... 5 4 6]\n",
      "accuracy:  0.525\n",
      "cost:  1.3166041066513983\n",
      "[6 8 9 ... 6 2 6] [6 9 9 ... 5 4 6]\n",
      "Iteration:  230\n",
      "[6 1 9 ... 9 4 6] [6 9 9 ... 5 4 6]\n",
      "accuracy:  0.601\n",
      "cost:  1.1373140838092413\n",
      "[6 1 9 ... 9 4 6] [6 9 9 ... 5 4 6]\n",
      "Iteration:  240\n",
      "[6 1 9 ... 9 2 6] [6 9 9 ... 5 4 6]\n",
      "accuracy:  0.6086\n",
      "cost:  1.1214029159862873\n",
      "[6 1 9 ... 9 2 6] [6 9 9 ... 5 4 6]\n",
      "Iteration:  250\n",
      "[6 1 9 ... 9 2 6] [6 9 9 ... 5 4 6]\n",
      "accuracy:  0.5972\n",
      "cost:  1.128856210770155\n",
      "[6 1 9 ... 9 2 6] [6 9 9 ... 5 4 6]\n",
      "Iteration:  260\n",
      "[6 1 9 ... 9 2 6] [6 9 9 ... 5 4 6]\n",
      "accuracy:  0.657\n",
      "cost:  0.9983604372454269\n",
      "[6 1 9 ... 9 2 6] [6 9 9 ... 5 4 6]\n",
      "Iteration:  270\n",
      "[6 1 9 ... 3 2 6] [6 9 9 ... 5 4 6]\n",
      "accuracy:  0.6774\n",
      "cost:  0.968929058895704\n",
      "[6 1 9 ... 3 2 6] [6 9 9 ... 5 4 6]\n",
      "Iteration:  280\n",
      "[6 1 9 ... 9 2 6] [6 9 9 ... 5 4 6]\n",
      "accuracy:  0.67\n",
      "cost:  0.9732958851795956\n",
      "[6 1 9 ... 9 2 6] [6 9 9 ... 5 4 6]\n",
      "Iteration:  290\n",
      "[6 1 9 ... 9 2 6] [6 9 9 ... 5 4 6]\n",
      "accuracy:  0.6612\n",
      "cost:  0.9729557182041241\n",
      "[6 1 9 ... 9 2 6] [6 9 9 ... 5 4 6]\n",
      "Iteration:  300\n",
      "[6 1 9 ... 9 2 6] [6 9 9 ... 5 4 6]\n",
      "accuracy:  0.7016\n",
      "cost:  0.8848263550951321\n",
      "[6 1 9 ... 9 2 6] [6 9 9 ... 5 4 6]\n",
      "Iteration:  310\n",
      "[6 1 9 ... 9 2 6] [6 9 9 ... 5 4 6]\n",
      "accuracy:  0.6796\n",
      "cost:  0.9251857020807546\n",
      "[6 1 9 ... 9 2 6] [6 9 9 ... 5 4 6]\n",
      "Iteration:  320\n",
      "[6 1 9 ... 5 2 6] [6 9 9 ... 5 4 6]\n",
      "accuracy:  0.7284\n",
      "cost:  0.8171742423442208\n",
      "[6 1 9 ... 5 2 6] [6 9 9 ... 5 4 6]\n",
      "Iteration:  330\n",
      "[6 1 9 ... 5 2 6] [6 9 9 ... 5 4 6]\n",
      "accuracy:  0.716\n",
      "cost:  0.8390784360785254\n",
      "[6 1 9 ... 5 2 6] [6 9 9 ... 5 4 6]\n",
      "Iteration:  340\n",
      "[6 1 9 ... 5 2 6] [6 9 9 ... 5 4 6]\n",
      "accuracy:  0.7268\n",
      "cost:  0.8208508770350187\n",
      "[6 1 9 ... 5 2 6] [6 9 9 ... 5 4 6]\n",
      "Iteration:  350\n",
      "[6 8 9 ... 6 2 6] [6 9 9 ... 5 4 6]\n",
      "accuracy:  0.6764\n",
      "cost:  0.9313688820268775\n",
      "[6 8 9 ... 6 2 6] [6 9 9 ... 5 4 6]\n",
      "Iteration:  360\n",
      "[6 1 9 ... 5 2 6] [6 9 9 ... 5 4 6]\n",
      "accuracy:  0.747\n",
      "cost:  0.7630590767443636\n",
      "[6 1 9 ... 5 2 6] [6 9 9 ... 5 4 6]\n",
      "Iteration:  370\n",
      "[6 1 9 ... 5 2 6] [6 9 9 ... 5 4 6]\n",
      "accuracy:  0.7968\n",
      "cost:  0.6572289429823541\n",
      "[6 1 9 ... 5 2 6] [6 9 9 ... 5 4 6]\n",
      "Iteration:  380\n",
      "[6 1 9 ... 5 2 6] [6 9 9 ... 5 4 6]\n",
      "accuracy:  0.816\n",
      "cost:  0.6062966035111894\n",
      "[6 1 9 ... 5 2 6] [6 9 9 ... 5 4 6]\n",
      "Iteration:  390\n",
      "[6 1 9 ... 5 2 6] [6 9 9 ... 5 4 6]\n",
      "accuracy:  0.7392\n",
      "cost:  0.7671576854588532\n",
      "[6 1 9 ... 5 2 6] [6 9 9 ... 5 4 6]\n",
      "Iteration:  400\n",
      "[6 1 9 ... 5 2 3] [6 9 9 ... 5 4 6]\n",
      "accuracy:  0.7846\n",
      "cost:  0.6731856736333541\n",
      "[6 1 9 ... 5 2 3] [6 9 9 ... 5 4 6]\n",
      "Iteration:  410\n",
      "[6 1 9 ... 5 2 6] [6 9 9 ... 5 4 6]\n",
      "accuracy:  0.822\n",
      "cost:  0.5906417369084881\n",
      "[6 1 9 ... 5 2 6] [6 9 9 ... 5 4 6]\n",
      "Iteration:  420\n",
      "[6 1 9 ... 5 2 6] [6 9 9 ... 5 4 6]\n",
      "accuracy:  0.805\n",
      "cost:  0.6160774350778495\n",
      "[6 1 9 ... 5 2 6] [6 9 9 ... 5 4 6]\n",
      "Iteration:  430\n",
      "[6 1 9 ... 5 2 6] [6 9 9 ... 5 4 6]\n",
      "accuracy:  0.8464\n",
      "cost:  0.5192646814070803\n",
      "[6 1 9 ... 5 2 6] [6 9 9 ... 5 4 6]\n",
      "Iteration:  440\n",
      "[6 1 9 ... 5 2 6] [6 9 9 ... 5 4 6]\n",
      "accuracy:  0.8622\n",
      "cost:  0.480038680060532\n",
      "[6 1 9 ... 5 2 6] [6 9 9 ... 5 4 6]\n",
      "Iteration:  450\n",
      "[6 1 9 ... 5 2 6] [6 9 9 ... 5 4 6]\n",
      "accuracy:  0.8696\n",
      "cost:  0.45764113639449644\n",
      "[6 1 9 ... 5 2 6] [6 9 9 ... 5 4 6]\n",
      "Iteration:  460\n",
      "[6 9 9 ... 5 2 6] [6 9 9 ... 5 4 6]\n",
      "accuracy:  0.873\n",
      "cost:  0.44801689224828073\n",
      "[6 9 9 ... 5 2 6] [6 9 9 ... 5 4 6]\n",
      "Iteration:  470\n",
      "[6 9 9 ... 5 2 6] [6 9 9 ... 5 4 6]\n",
      "accuracy:  0.7266\n",
      "cost:  0.7462110167429209\n",
      "[6 9 9 ... 5 2 6] [6 9 9 ... 5 4 6]\n",
      "Iteration:  480\n",
      "[6 1 9 ... 5 2 6] [6 9 9 ... 5 4 6]\n",
      "accuracy:  0.8364\n",
      "cost:  0.5065828941713227\n",
      "[6 1 9 ... 5 2 6] [6 9 9 ... 5 4 6]\n",
      "Iteration:  490\n",
      "[6 1 9 ... 5 2 6] [6 9 9 ... 5 4 6]\n",
      "accuracy:  0.892\n",
      "cost:  0.39785501161345405\n",
      "[6 1 9 ... 5 2 6] [6 9 9 ... 5 4 6]\n",
      "Iteration:  500\n",
      "[6 9 9 ... 5 2 6] [6 9 9 ... 5 4 6]\n",
      "accuracy:  0.8864\n",
      "cost:  0.39623493323803577\n",
      "[6 9 9 ... 5 2 6] [6 9 9 ... 5 4 6]\n",
      "Iteration:  510\n",
      "[6 9 9 ... 5 2 6] [6 9 9 ... 5 4 6]\n",
      "accuracy:  0.9094\n",
      "cost:  0.3526271446717959\n",
      "[6 9 9 ... 5 2 6] [6 9 9 ... 5 4 6]\n",
      "Iteration:  520\n",
      "[6 9 9 ... 5 2 6] [6 9 9 ... 5 4 6]\n",
      "accuracy:  0.9132\n",
      "cost:  0.333988016129636\n",
      "[6 9 9 ... 5 2 6] [6 9 9 ... 5 4 6]\n",
      "Iteration:  530\n",
      "[6 9 9 ... 5 2 6] [6 9 9 ... 5 4 6]\n",
      "accuracy:  0.8754\n",
      "cost:  0.4063360629342055\n",
      "[6 9 9 ... 5 2 6] [6 9 9 ... 5 4 6]\n",
      "Iteration:  540\n",
      "[6 7 9 ... 3 7 6] [6 9 9 ... 5 4 6]\n",
      "accuracy:  0.357\n",
      "cost:  2.7694807123279457\n",
      "[6 7 9 ... 3 7 6] [6 9 9 ... 5 4 6]\n",
      "Iteration:  550\n",
      "[6 9 9 ... 9 4 6] [6 9 9 ... 5 4 6]\n",
      "accuracy:  0.5274\n",
      "cost:  1.4955768352418932\n",
      "[6 9 9 ... 9 4 6] [6 9 9 ... 5 4 6]\n",
      "Iteration:  560\n",
      "[6 1 9 ... 9 2 6] [6 9 9 ... 5 4 6]\n",
      "accuracy:  0.6146\n",
      "cost:  1.0940496300981186\n",
      "[6 1 9 ... 9 2 6] [6 9 9 ... 5 4 6]\n",
      "Iteration:  570\n",
      "[6 1 9 ... 3 2 6] [6 9 9 ... 5 4 6]\n",
      "accuracy:  0.7656\n",
      "cost:  0.728325273859836\n",
      "[6 1 9 ... 3 2 6] [6 9 9 ... 5 4 6]\n",
      "Iteration:  580\n",
      "[6 1 9 ... 5 2 6] [6 9 9 ... 5 4 6]\n",
      "accuracy:  0.8266\n",
      "cost:  0.5622149678509574\n",
      "[6 1 9 ... 5 2 6] [6 9 9 ... 5 4 6]\n",
      "Iteration:  590\n",
      "[6 1 9 ... 5 2 6] [6 9 9 ... 5 4 6]\n",
      "accuracy:  0.8736\n",
      "cost:  0.4605992421057795\n",
      "[6 1 9 ... 5 2 6] [6 9 9 ... 5 4 6]\n",
      "Iteration:  600\n",
      "[6 9 9 ... 9 2 6] [6 9 9 ... 5 4 6]\n",
      "accuracy:  0.7614\n",
      "cost:  0.6976974325619923\n",
      "[6 9 9 ... 9 2 6] [6 9 9 ... 5 4 6]\n",
      "Iteration:  610\n",
      "[6 9 9 ... 5 2 6] [6 9 9 ... 5 4 6]\n",
      "accuracy:  0.8832\n",
      "cost:  0.4223482666485952\n",
      "[6 9 9 ... 5 2 6] [6 9 9 ... 5 4 6]\n",
      "Iteration:  620\n",
      "[6 9 9 ... 5 2 6] [6 9 9 ... 5 4 6]\n",
      "accuracy:  0.9178\n",
      "cost:  0.3512250030427403\n",
      "[6 9 9 ... 5 2 6] [6 9 9 ... 5 4 6]\n"
     ]
    },
    {
     "name": "stdout",
     "output_type": "stream",
     "text": [
      "Iteration:  630\n",
      "[6 9 9 ... 5 2 6] [6 9 9 ... 5 4 6]\n",
      "accuracy:  0.931\n",
      "cost:  0.30209161652901256\n",
      "[6 9 9 ... 5 2 6] [6 9 9 ... 5 4 6]\n",
      "Iteration:  640\n",
      "[6 9 9 ... 5 2 6] [6 9 9 ... 5 4 6]\n",
      "accuracy:  0.923\n",
      "cost:  0.3020825306626515\n",
      "[6 9 9 ... 5 2 6] [6 9 9 ... 5 4 6]\n",
      "Iteration:  650\n",
      "[6 9 9 ... 5 2 6] [6 9 9 ... 5 4 6]\n",
      "accuracy:  0.952\n",
      "cost:  0.24550248893770893\n",
      "[6 9 9 ... 5 2 6] [6 9 9 ... 5 4 6]\n",
      "Iteration:  660\n",
      "[6 9 9 ... 5 2 6] [6 9 9 ... 5 4 6]\n",
      "accuracy:  0.9222\n",
      "cost:  0.28852223760200857\n",
      "[6 9 9 ... 5 2 6] [6 9 9 ... 5 4 6]\n",
      "Iteration:  670\n",
      "[6 9 9 ... 5 2 6] [6 9 9 ... 5 4 6]\n",
      "accuracy:  0.6576\n",
      "cost:  0.9692993833391915\n",
      "[6 9 9 ... 5 2 6] [6 9 9 ... 5 4 6]\n",
      "Iteration:  680\n",
      "[6 7 9 ... 5 4 6] [6 9 9 ... 5 4 6]\n",
      "accuracy:  0.6856\n",
      "cost:  0.9002059632599558\n",
      "[6 7 9 ... 5 4 6] [6 9 9 ... 5 4 6]\n",
      "Iteration:  690\n",
      "[3 1 9 ... 5 4 6] [6 9 9 ... 5 4 6]\n",
      "accuracy:  0.8172\n",
      "cost:  0.5448972644783753\n",
      "[3 1 9 ... 5 4 6] [6 9 9 ... 5 4 6]\n",
      "Iteration:  700\n",
      "[6 9 9 ... 5 2 6] [6 9 9 ... 5 4 6]\n",
      "accuracy:  0.9118\n",
      "cost:  0.3394172185107267\n",
      "[6 9 9 ... 5 2 6] [6 9 9 ... 5 4 6]\n",
      "Iteration:  710\n",
      "[6 9 9 ... 5 2 6] [6 9 9 ... 5 4 6]\n",
      "accuracy:  0.9482\n",
      "cost:  0.25228378812253127\n",
      "[6 9 9 ... 5 2 6] [6 9 9 ... 5 4 6]\n",
      "Iteration:  720\n",
      "[6 9 9 ... 5 2 6] [6 9 9 ... 5 4 6]\n",
      "accuracy:  0.9544\n",
      "cost:  0.2244289804208396\n",
      "[6 9 9 ... 5 2 6] [6 9 9 ... 5 4 6]\n",
      "Iteration:  730\n",
      "[6 9 9 ... 5 2 6] [6 9 9 ... 5 4 6]\n",
      "accuracy:  0.969\n",
      "cost:  0.18562739543335324\n",
      "[6 9 9 ... 5 2 6] [6 9 9 ... 5 4 6]\n",
      "Iteration:  740\n",
      "[6 9 9 ... 5 2 6] [6 9 9 ... 5 4 6]\n",
      "accuracy:  0.9724\n",
      "cost:  0.16815081649714106\n",
      "[6 9 9 ... 5 2 6] [6 9 9 ... 5 4 6]\n",
      "Iteration:  750\n",
      "[6 9 9 ... 5 2 6] [6 9 9 ... 5 4 6]\n",
      "accuracy:  0.971\n",
      "cost:  0.1639585899004133\n",
      "[6 9 9 ... 5 2 6] [6 9 9 ... 5 4 6]\n",
      "Iteration:  760\n",
      "[6 9 9 ... 5 4 6] [6 9 9 ... 5 4 6]\n",
      "accuracy:  0.9748\n",
      "cost:  0.14756181927122203\n",
      "[6 9 9 ... 5 4 6] [6 9 9 ... 5 4 6]\n",
      "Iteration:  770\n",
      "[6 9 9 ... 5 2 6] [6 9 9 ... 5 4 6]\n",
      "accuracy:  0.979\n",
      "cost:  0.13510798328282453\n",
      "[6 9 9 ... 5 2 6] [6 9 9 ... 5 4 6]\n",
      "Iteration:  780\n",
      "[6 9 9 ... 5 4 6] [6 9 9 ... 5 4 6]\n",
      "accuracy:  0.9824\n",
      "cost:  0.12160204866309346\n",
      "[6 9 9 ... 5 4 6] [6 9 9 ... 5 4 6]\n"
     ]
    }
   ],
   "source": [
    "n_x = x_train.shape[0]\n",
    "n_h1 = 500\n",
    "n_h2 = 500\n",
    "n_h3 = 250\n",
    "n_h4 = 250\n",
    "n_y = 10\n",
    "\n",
    "# parameters = gradient_descent(x_train, y_train, epoch=1000, learning_rate=0.01, n_x=n_x, nh_1=n_h1, nh_2=n_h2, nh_3=n_h3, nh_4=n_h4, n_y=n_y)\n",
    "parameters, cache = adam_model(x_train, y_train, epoch=1000, learning_rate=0.001, n_x=n_x, nh_1=n_h1, nh_2=n_h2, nh_3=n_h3, nh_4=n_h4, n_y=n_y)"
   ]
  },
  {
   "cell_type": "code",
   "execution_count": 73,
   "id": "ca67a683",
   "metadata": {},
   "outputs": [],
   "source": [
    "def make_predictions(X, parameters):\n",
    "    cache, parameters = forward_prop(X, parameters)\n",
    "    predictions = get_predictions(cache[\"A5\"])\n",
    "    return predictions\n",
    "\n",
    "def test_prediction(index, parameters):\n",
    "    current_image = x_test[:, index, None]\n",
    "    predictions = make_predictions(x_test[:, index, None], parameters)\n",
    "    prediction = make_predictions(x_test, parameters)\n",
    "    print(\"accuracy on test set: \",get_accuracy(prediction, y_test))\n",
    "    label = y_test[index]\n",
    "    print(\"Prediction: \", predictions)\n",
    "    print(\"Label: \", label)\n",
    "    \n",
    "    current_image = current_image.reshape((3, 32, 32))\n",
    "    current_image = current_image.transpose([1,2,0])\n",
    "    plt.subplot(331)\n",
    "    plt.imshow(current_image, interpolation='nearest')\n",
    "    plt.show()"
   ]
  },
  {
   "cell_type": "code",
   "execution_count": 74,
   "id": "5edc6586",
   "metadata": {},
   "outputs": [
    {
     "name": "stdout",
     "output_type": "stream",
     "text": [
      "[4 0 9 ... 9 9 0] [6 7 9 ... 9 1 1]\n",
      "accuracy on test set:  0.42133333333333334\n",
      "Prediction:  [2]\n",
      "Label:  2\n"
     ]
    },
    {
     "data": {
      "image/png": "[encoded data removed]",
      "text/plain": [
       "<Figure size 432x288 with 1 Axes>"
      ]
     },
     "metadata": {
      "needs_background": "light"
     },
     "output_type": "display_data"
    }
   ],
   "source": [
    "test_prediction(189, parameters)"
   ]
  },
  {
   "cell_type": "code",
   "execution_count": 28,
   "id": "2f01ff87",
   "metadata": {},
   "outputs": [
    {
     "data": {
      "text/plain": [
       "{b'num_cases_per_batch': 10000,\n",
       " b'label_names': [b'airplane',\n",
       "  b'automobile',\n",
       "  b'bird',\n",
       "  b'cat',\n",
       "  b'deer',\n",
       "  b'dog',\n",
       "  b'frog',\n",
       "  b'horse',\n",
       "  b'ship',\n",
       "  b'truck'],\n",
       " b'num_vis': 3072}"
      ]
     },
     "execution_count": 28,
     "metadata": {},
     "output_type": "execute_result"
    }
   ],
   "source": [
    "batch_label"
   ]
  },
  {
   "cell_type": "markdown",
   "id": "518298c3",
   "metadata": {},
   "source": [
    "### Tensorflow Implementation"
   ]
  },
  {
   "cell_type": "code",
   "execution_count": 29,
   "id": "bd5c078e",
   "metadata": {},
   "outputs": [],
   "source": [
    "import tensorflow as tf\n",
    "\n",
    "model = tf.keras.Sequential([\n",
    "    tf.keras.Input(shape = (3072,)),\n",
    "    tf.keras.layers.Dense(100, activation =\"sigmoid\"),\n",
    "    tf.keras.layers.Dense(100, activation =\"relu\"),\n",
    "    tf.keras.layers.Dense(50, activation =\"relu\"),\n",
    "    tf.keras.layers.Dense(25, activation =\"sigmoid\"),\n",
    "    tf.keras.layers.Dense(10, activation =\"softmax\")\n",
    "])"
   ]
  },
  {
   "cell_type": "code",
   "execution_count": 30,
   "id": "79a3d4f9",
   "metadata": {
    "scrolled": true
   },
   "outputs": [],
   "source": [
    "model.compile(optimizer = 'sgd', loss=tf.keras.losses.sparse_categorical_crossentropy, metrics = tf.keras.metrics.SparseCategoricalAccuracy())\n",
    "# model.fit(x_train.T, y_train, epochs=200)"
   ]
  },
  {
   "cell_type": "code",
   "execution_count": 31,
   "id": "b8150bab",
   "metadata": {},
   "outputs": [],
   "source": [
    "a = model.layers[0].get_weights()"
   ]
  },
  {
   "cell_type": "code",
   "execution_count": 32,
   "id": "3382c645",
   "metadata": {},
   "outputs": [
    {
     "data": {
      "text/plain": [
       "(100,)"
      ]
     },
     "execution_count": 32,
     "metadata": {},
     "output_type": "execute_result"
    }
   ],
   "source": [
    "a[1].shape"
   ]
  },
  {
   "cell_type": "code",
   "execution_count": 33,
   "id": "65e52a9b",
   "metadata": {},
   "outputs": [
    {
     "name": "stdout",
     "output_type": "stream",
     "text": [
      "0.01\n"
     ]
    }
   ],
   "source": [
    "print(tf.keras.backend.eval(model.optimizer.lr))"
   ]
  },
  {
   "cell_type": "code",
   "execution_count": 34,
   "id": "730c5442",
   "metadata": {},
   "outputs": [
    {
     "data": {
      "text/plain": [
       "{'name': 'SGD',\n",
       " 'learning_rate': 0.01,\n",
       " 'decay': 0.0,\n",
       " 'momentum': 0.0,\n",
       " 'nesterov': False}"
      ]
     },
     "execution_count": 34,
     "metadata": {},
     "output_type": "execute_result"
    }
   ],
   "source": [
    "model.optimizer.get_config()"
   ]
  },
  {
   "cell_type": "code",
   "execution_count": 35,
   "id": "39963bae",
   "metadata": {},
   "outputs": [
    {
     "data": {
      "text/plain": [
       "(10, 5000)"
      ]
     },
     "execution_count": 35,
     "metadata": {},
     "output_type": "execute_result"
    }
   ],
   "source": [
    "cache[\"A5\"].shape"
   ]
  },
  {
   "cell_type": "code",
   "execution_count": 36,
   "id": "019d9ef6",
   "metadata": {},
   "outputs": [
    {
     "data": {
      "text/plain": [
       "(10, 5000)"
      ]
     },
     "execution_count": 36,
     "metadata": {},
     "output_type": "execute_result"
    }
   ],
   "source": [
    "Y = one_hot(y_train)\n",
    "Y.shape"
   ]
  },
  {
   "cell_type": "code",
   "execution_count": 37,
   "id": "4baf544c",
   "metadata": {},
   "outputs": [
    {
     "data": {
      "text/plain": [
       "3072"
      ]
     },
     "execution_count": 37,
     "metadata": {},
     "output_type": "execute_result"
    }
   ],
   "source": [
    "p = {}\n",
    "p[\"w1\"] = np.random.randn(10, 3072) * np.sqrt(2/3072)\n",
    "p[\"w1\"].shape[1]"
   ]
  },
  {
   "cell_type": "code",
   "execution_count": 38,
   "id": "5f267204",
   "metadata": {},
   "outputs": [],
   "source": [
    "x = cache[\"A5\"][:,0]"
   ]
  }
 ],
 "metadata": {
  "kernelspec": {
   "display_name": "gpu2",
   "language": "python",
   "name": "gpu2"
  },
  "language_info": {
   "codemirror_mode": {
    "name": "ipython",
    "version": 3
   },
   "file_extension": ".py",
   "mimetype": "text/x-python",
   "name": "python",
   "nbconvert_exporter": "python",
   "pygments_lexer": "ipython3",
   "version": "3.9.12"
  }
 },
 "nbformat": 4,
 "nbformat_minor": 5
}
