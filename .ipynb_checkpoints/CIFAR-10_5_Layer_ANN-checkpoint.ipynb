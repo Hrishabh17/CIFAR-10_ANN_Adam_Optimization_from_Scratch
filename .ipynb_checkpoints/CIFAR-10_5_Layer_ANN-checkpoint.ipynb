{
 "cells": [
  {
   "cell_type": "code",
   "execution_count": 1,
   "id": "72d141a2",
   "metadata": {},
   "outputs": [],
   "source": [
    "import numpy as np\n",
    "import pandas as pd\n",
    "import matplotlib.pyplot as plt\n",
    "import os"
   ]
  },
  {
   "cell_type": "code",
   "execution_count": 2,
   "id": "ad25943b",
   "metadata": {},
   "outputs": [],
   "source": [
    "import tarfile\n",
    "my_tar = tarfile.open('cifar-10-python.tar.gz')\n",
    "my_tar.extractall('./dataset')\n",
    "my_tar.close()"
   ]
  },
  {
   "cell_type": "code",
   "execution_count": 3,
   "id": "4a9f3313",
   "metadata": {},
   "outputs": [],
   "source": [
    "import pickle\n",
    "def unpickle(file):\n",
    "    with open(file, 'rb') as fo:\n",
    "        dict = pickle.load(fo, encoding='bytes')\n",
    "    return dict\n",
    "\n",
    "path = os.path.join('dataset', 'cifar-10-batches-py')\n",
    "train_data = []\n",
    "for i in range(1, 6):\n",
    "    data = unpickle(path + '/data_batch_' + str(i))\n",
    "    train_data.append(data)"
   ]
  },
  {
   "cell_type": "code",
   "execution_count": 4,
   "id": "84904a30",
   "metadata": {},
   "outputs": [],
   "source": [
    "batch_label = unpickle(path + '/batches.meta')"
   ]
  },
  {
   "cell_type": "code",
   "execution_count": 5,
   "id": "eab3bb9f",
   "metadata": {},
   "outputs": [
    {
     "data": {
      "text/plain": [
       "(10000, 3072)"
      ]
     },
     "execution_count": 5,
     "metadata": {},
     "output_type": "execute_result"
    }
   ],
   "source": [
    "data_arr = np.array(train_data[0][b'data'])\n",
    "data_arr.shape"
   ]
  },
  {
   "cell_type": "code",
   "execution_count": 6,
   "id": "5e0fd758",
   "metadata": {},
   "outputs": [
    {
     "data": {
      "text/plain": [
       "dict_keys([b'batch_label', b'labels', b'data', b'filenames'])"
      ]
     },
     "execution_count": 6,
     "metadata": {},
     "output_type": "execute_result"
    }
   ],
   "source": [
    "data.keys()"
   ]
  },
  {
   "cell_type": "code",
   "execution_count": 7,
   "id": "db3c8499",
   "metadata": {},
   "outputs": [],
   "source": [
    "data_arr = data_arr[8, :]"
   ]
  },
  {
   "cell_type": "code",
   "execution_count": 8,
   "id": "cac9d88d",
   "metadata": {},
   "outputs": [],
   "source": [
    "data_arr = data_arr.reshape(3, 32, 32)"
   ]
  },
  {
   "cell_type": "code",
   "execution_count": 9,
   "id": "81c654f3",
   "metadata": {},
   "outputs": [
    {
     "data": {
      "text/plain": [
       "<matplotlib.image.AxesImage at 0x1a22d472070>"
      ]
     },
     "execution_count": 9,
     "metadata": {},
     "output_type": "execute_result"
    },
    {
     "data": {
      "image/png": "[encoded data removed]",
      "text/plain": [
       "<Figure size 432x288 with 1 Axes>"
      ]
     },
     "metadata": {
      "needs_background": "light"
     },
     "output_type": "display_data"
    }
   ],
   "source": [
    "data_arr = data_arr.transpose([1,2,0])\n",
    "plt.subplot(331)\n",
    "plt.imshow(data_arr)"
   ]
  },
  {
   "cell_type": "code",
   "execution_count": 10,
   "id": "942818f3",
   "metadata": {},
   "outputs": [],
   "source": [
    "train_data_image_arr = []\n",
    "train_data_label_arr = []\n",
    "for i in range(len(train_data)):\n",
    "    train_data_image_arr.append(train_data[i][b'data'])\n",
    "    train_data_label_arr.append(train_data[i][b'labels'])"
   ]
  },
  {
   "cell_type": "code",
   "execution_count": 11,
   "id": "755e0f34",
   "metadata": {},
   "outputs": [
    {
     "name": "stdout",
     "output_type": "stream",
     "text": [
      "Shape of Train Data image set: (5, 10000, 3072)\n",
      "Shape of Train Data lavel set: (5, 10000)\n"
     ]
    }
   ],
   "source": [
    "train_data_image_arr = np.array(train_data_image_arr)\n",
    "train_data_label_arr = np.array(train_data_label_arr)\n",
    "print(f\"Shape of Train Data image set: {train_data_image_arr.shape}\")\n",
    "print(f\"Shape of Train Data lavel set: {train_data_label_arr.shape}\")"
   ]
  },
  {
   "cell_type": "code",
   "execution_count": 12,
   "id": "015ff60e",
   "metadata": {},
   "outputs": [
    {
     "name": "stdout",
     "output_type": "stream",
     "text": [
      "Shape of Train Data image set: (50000, 3072)\n"
     ]
    }
   ],
   "source": [
    "train_data_image_arr = train_data_image_arr.reshape(-1, 3072)\n",
    "print(f\"Shape of Train Data image set: {train_data_image_arr.shape}\")"
   ]
  },
  {
   "cell_type": "code",
   "execution_count": 13,
   "id": "9ce80b4d",
   "metadata": {},
   "outputs": [
    {
     "name": "stdout",
     "output_type": "stream",
     "text": [
      "Shape of Train Data lavel set: (50000, 1)\n"
     ]
    }
   ],
   "source": [
    "train_data_label_arr = train_data_label_arr.reshape(50000, -1)\n",
    "print(f\"Shape of Train Data lavel set: {train_data_label_arr.shape}\")"
   ]
  },
  {
   "cell_type": "code",
   "execution_count": 14,
   "id": "3d8c417e",
   "metadata": {},
   "outputs": [],
   "source": [
    "img = train_data_image_arr[8].reshape(3,32,32)\n",
    "img_label = train_data_label_arr[8]"
   ]
  },
  {
   "cell_type": "code",
   "execution_count": 15,
   "id": "79266c41",
   "metadata": {},
   "outputs": [
    {
     "data": {
      "text/plain": [
       "array([[[134, 131, 128, ..., 127, 127, 128],\n",
       "        [133, 129, 128, ..., 127, 127, 128],\n",
       "        [128, 127, 128, ..., 126, 126, 126],\n",
       "        ...,\n",
       "        [174, 171, 155, ...,  27,  29,  28],\n",
       "        [194, 189, 159, ...,  30,  30,  30],\n",
       "        [193, 181, 168, ...,  31,  32,  32]],\n",
       "\n",
       "       [[186, 184, 182, ..., 181, 181, 182],\n",
       "        [189, 186, 186, ..., 183, 183, 184],\n",
       "        [185, 182, 182, ..., 181, 181, 180],\n",
       "        ...,\n",
       "        [208, 206, 189, ...,  94,  96,  94],\n",
       "        [221, 215, 196, ...,  95,  96,  95],\n",
       "        [217, 208, 201, ...,  94,  94,  94]],\n",
       "\n",
       "       [[223, 220, 218, ..., 222, 222, 223],\n",
       "        [228, 224, 224, ..., 224, 224, 225],\n",
       "        [226, 223, 223, ..., 222, 222, 221],\n",
       "        ...,\n",
       "        [235, 229, 216, ..., 136, 137, 136],\n",
       "        [244, 239, 225, ..., 138, 139, 140],\n",
       "        [237, 230, 227, ..., 136, 137, 138]]], dtype=uint8)"
      ]
     },
     "execution_count": 15,
     "metadata": {},
     "output_type": "execute_result"
    }
   ],
   "source": [
    "img"
   ]
  },
  {
   "cell_type": "code",
   "execution_count": 16,
   "id": "beb367bf",
   "metadata": {},
   "outputs": [
    {
     "data": {
      "text/plain": [
       "Text(0.5, 1.0, 'Ship')"
      ]
     },
     "execution_count": 16,
     "metadata": {},
     "output_type": "execute_result"
    },
    {
     "data": {
      "image/png": "[encoded data removed]",
      "text/plain": [
       "<Figure size 432x288 with 1 Axes>"
      ]
     },
     "metadata": {
      "needs_background": "light"
     },
     "output_type": "display_data"
    }
   ],
   "source": [
    "plt.imshow(img.transpose([1,2,0]))\n",
    "plt.title('Ship')"
   ]
  },
  {
   "cell_type": "code",
   "execution_count": 17,
   "id": "3a71de97",
   "metadata": {},
   "outputs": [
    {
     "name": "stdout",
     "output_type": "stream",
     "text": [
      "Shape of x_train : (3072, 40000)\n",
      "Shape of x_test : (3072, 10000)\n",
      "Shape of y_train : (40000,)\n",
      "Shape of y_test : (10000,)\n"
     ]
    },
    {
     "data": {
      "text/plain": [
       "0.6941176470588235"
      ]
     },
     "execution_count": 17,
     "metadata": {},
     "output_type": "execute_result"
    }
   ],
   "source": [
    "x_train = train_data_image_arr[:40000, :].T /255\n",
    "x_test = train_data_image_arr[40000:, :].T /255\n",
    "y_train = train_data_label_arr[:40000, ].reshape(40000,)\n",
    "y_test = train_data_label_arr[40000:,].reshape(10000,)\n",
    "print(f\"Shape of x_train : {x_train.shape}\")\n",
    "print(f\"Shape of x_test : {x_test.shape}\")\n",
    "print(f\"Shape of y_train : {y_train.shape}\")\n",
    "print(f\"Shape of y_test : {y_test.shape}\")\n",
    "x_train[2,4]"
   ]
  },
  {
   "cell_type": "markdown",
   "id": "4975efc2",
   "metadata": {},
   "source": [
    "### ANN 5 layer with relu, relu, sigmoid and softmax activations"
   ]
  },
  {
   "cell_type": "markdown",
   "id": "0054b5b7",
   "metadata": {},
   "source": [
    "#### Helper Functions"
   ]
  },
  {
   "cell_type": "code",
   "execution_count": 18,
   "id": "0738e6bf",
   "metadata": {},
   "outputs": [],
   "source": [
    "def weights_initializer(n_x, nh_1, nh_2, nh_3, nh_4, n_y):\n",
    "    import math\n",
    "    n = {\n",
    "        \"n1\" : n_x,\n",
    "        \"n2\" : nh_1,\n",
    "        \"n3\" : n_h2,\n",
    "        \"n4\" : n_h3,\n",
    "        \"n5\" : n_h4,\n",
    "        \"n6\" : n_y \n",
    "    }\n",
    "    \n",
    "    # He initialization\n",
    "    W1 = np.array(np.random.randn(n[\"n2\"], n[\"n1\"]), dtype=np.float64) * math.sqrt(2/(n[\"n1\"])) \n",
    "    b1 = np.array(np.zeros((n[\"n2\"], 1)), dtype = np.float64)\n",
    "    W2 = np.array(np.random.randn(n[\"n3\"], n[\"n2\"]), dtype=np.float64) * math.sqrt(2/(n[\"n2\"])) \n",
    "    b2 = np.array(np.zeros((n[\"n3\"], 1)), dtype = np.float64)\n",
    "    W3 = np.array(np.random.randn(n[\"n4\"], n[\"n3\"]), dtype=np.float64) * math.sqrt(2/(n[\"n3\"])) \n",
    "    b3 = np.array(np.zeros((n[\"n4\"], 1)), dtype = np.float64)\n",
    "    W4 = np.array(np.random.randn(n[\"n5\"], n[\"n4\"]), dtype=np.float64) * math.sqrt(2/(n[\"n4\"])) \n",
    "    b4 = np.array(np.zeros((n[\"n5\"], 1)), dtype = np.float64)\n",
    "    W5 = np.array(np.random.randn(n[\"n6\"], n[\"n5\"]), dtype=np.float64) * math.sqrt(2/(n[\"n5\"])) \n",
    "    b5 = np.array(np.zeros((n[\"n6\"], 1)), dtype = np.float64)\n",
    "        \n",
    "    parameters = {\n",
    "          \"W1\" : W1, \n",
    "          \"W2\" : W2,\n",
    "          \"W3\" : W3,\n",
    "          \"W4\" : W4,\n",
    "          \"W5\" : W5,\n",
    "          \"b1\" : b1,\n",
    "          \"b2\" : b2,\n",
    "          \"b3\" : b3,\n",
    "          \"b4\" : b4,\n",
    "          \"b5\" : b5  \n",
    "        }\n",
    "        \n",
    "    return parameters\n",
    "\n",
    "def sigmoid(z):\n",
    "    return 1/(1+np.exp(-z))\n",
    "\n",
    "def ReLU(z):\n",
    "    return np.maximum(0,z)\n",
    "\n",
    "def softmax(z):\n",
    "    return np.exp(z)/sum(np.exp(z) + 1e-8)\n",
    "\n",
    "def sigmoid_prime(z):\n",
    "    return sigmoid(z) * (1-sigmoid(z))\n",
    "\n",
    "def ReLU_prime(z):\n",
    "    return z>0\n",
    "\n",
    "def compute_z(W, X, b):\n",
    "    return np.dot(W, X) + b\n",
    "\n",
    "def compute_activation(z, activation):\n",
    "    if(activation == \"sigmoid\"):\n",
    "        return sigmoid(z)\n",
    "    elif(activation == \"relu\"):\n",
    "        return ReLU(z)\n",
    "    elif(activation == \"softmax\"):\n",
    "        return softmax(z)\n",
    "\n",
    "def one_hot(Y):\n",
    "    one_hot_Y = np.zeros((Y.size, Y.max() + 1))\n",
    "    one_hot_Y[np.arange(Y.size), Y] = 1\n",
    "    one_hot_Y = one_hot_Y.T\n",
    "    return one_hot_Y\n",
    "\n",
    "def get_predictions(A5):\n",
    "    return np.argmax(A5, 0)\n",
    "\n",
    "def get_accuracy(predictions, Y):\n",
    "    print(predictions, Y)\n",
    "    return np.sum(predictions == Y) / Y.size"
   ]
  },
  {
   "cell_type": "markdown",
   "id": "fd889ba5",
   "metadata": {},
   "source": [
    "### Adam Optimization (optimization technique for updating parameters; used in place of gd to tune the convergence)"
   ]
  },
  {
   "cell_type": "code",
   "execution_count": 19,
   "id": "fed6cfb8",
   "metadata": {},
   "outputs": [],
   "source": [
    "class adam_optimization():\n",
    "    def __init__(self, n_x, nh_1, nh_2, nh_3, nh_4, n_y, beta1, beta2, epsilon, learning_rate): \n",
    "        \n",
    "        n = {\"n1\" : n_x,\n",
    "            \"n2\" : nh_1,\n",
    "            \"n3\" : n_h2,\n",
    "            \"n4\" : n_h3,\n",
    "            \"n5\" : n_h4,\n",
    "            \"n6\" : n_y }\n",
    "        \n",
    "        self.beta1 = beta1\n",
    "        self.beta2 = beta2\n",
    "        self.epsilon = epsilon\n",
    "        self.learning_rate = learning_rate\n",
    "        \n",
    "        \n",
    "        self.v_dW1 = np.array(np.zeros((n[\"n2\"], n[\"n1\"])), dtype = np.float64)\n",
    "        self.v_dW2 = np.array(np.zeros((n[\"n3\"], n[\"n2\"])), dtype = np.float64)\n",
    "        self.v_dW3 = np.array(np.zeros((n[\"n4\"], n[\"n3\"])), dtype = np.float64)\n",
    "        self.v_dW4 = np.array(np.zeros((n[\"n5\"], n[\"n4\"])), dtype = np.float64)\n",
    "        self.v_dW5 = np.array(np.zeros((n[\"n6\"], n[\"n5\"])), dtype = np.float64)\n",
    "        \n",
    "        self.v_db1 = np.array(np.zeros((n[\"n2\"], 1)), dtype = np.float64)\n",
    "        self.v_db2 = np.array(np.zeros((n[\"n3\"], 1)), dtype = np.float64)\n",
    "        self.v_db3 = np.array(np.zeros((n[\"n4\"], 1)), dtype = np.float64)\n",
    "        self.v_db4 = np.array(np.zeros((n[\"n5\"], 1)), dtype = np.float64)\n",
    "        self.v_db5 = np.array(np.zeros((n[\"n6\"], 1)), dtype = np.float64)\n",
    "        \n",
    "        self.s_dW1 = np.array(np.zeros((n[\"n2\"], n[\"n1\"])), dtype = np.float64)\n",
    "        self.s_dW2 = np.array(np.zeros((n[\"n3\"], n[\"n2\"])), dtype = np.float64)\n",
    "        self.s_dW3 = np.array(np.zeros((n[\"n4\"], n[\"n3\"])), dtype = np.float64)\n",
    "        self.s_dW4 = np.array(np.zeros((n[\"n5\"], n[\"n4\"])), dtype = np.float64)\n",
    "        self.s_dW5 = np.array(np.zeros((n[\"n6\"], n[\"n5\"])), dtype = np.float64)\n",
    "        \n",
    "        self.s_db1 = np.array(np.zeros((n[\"n2\"], 1)), dtype = np.float64)\n",
    "        self.s_db2 = np.array(np.zeros((n[\"n3\"], 1)), dtype = np.float64)\n",
    "        self.s_db3 = np.array(np.zeros((n[\"n4\"], 1)), dtype = np.float64)\n",
    "        self.s_db4 = np.array(np.zeros((n[\"n5\"], 1)), dtype = np.float64)\n",
    "        self.s_db5 = np.array(np.zeros((n[\"n6\"], 1)), dtype = np.float64)\n",
    "        \n",
    "        self.v = {\n",
    "              \"dW1\" : self.v_dW1, \n",
    "              \"dW2\" : self.v_dW2,\n",
    "              \"dW3\" : self.v_dW3,\n",
    "              \"dW4\" : self.v_dW4,\n",
    "              \"dW5\" : self.v_dW5,\n",
    "              \"db1\" : self.v_db1,\n",
    "              \"db2\" : self.v_db2,\n",
    "              \"db3\" : self.v_db3,\n",
    "              \"db4\" : self.v_db4,\n",
    "              \"db5\" : self.v_db5\n",
    "            }\n",
    "        \n",
    "        self.s = {\n",
    "              \"dW1\" : self.s_dW1, \n",
    "              \"dW2\" : self.s_dW2,\n",
    "              \"dW3\" : self.s_dW3,\n",
    "              \"dW4\" : self.s_dW4,\n",
    "              \"dW5\" : self.s_dW5,\n",
    "              \"db1\" : self.s_db1,\n",
    "              \"db2\" : self.s_db2,\n",
    "              \"db3\" : self.s_db3,\n",
    "              \"db4\" : self.s_db4,\n",
    "              \"db5\" : self.s_db5\n",
    "            }\n",
    "        \n",
    "        v_corrected = self.v\n",
    "        s_corrected = self.s\n",
    "     \n",
    "    def ret_vs(self):\n",
    "        return self.v, self.s\n",
    "    \n",
    "    def update_params(self, parameters, v, s, grads, t):\n",
    "        for i in range(1, 6):\n",
    "            # gradient with momentum\n",
    "            v[\"dW\" + str(i)] = self.beta1 * v[\"dW\" + str(i)] + (1-self.beta1) * grads[\"dW\" + str(i)]\n",
    "            v[\"db\" + str(i)] = self.beta1 * v[\"db\" + str(i)] + (1-self.beta1) * grads[\"db\" + str(i)]\n",
    "            \n",
    "            # RMSprop\n",
    "            s[\"dW\" + str(i)] = self.beta2 * s[\"dW\" + str(i)] + (1-self.beta2) * np.square(grads[\"dW\" + str(i)])\n",
    "            s[\"db\" + str(i)] = self.beta2 * s[\"db\" + str(i)] + (1-self.beta2) * np.square(grads[\"db\" + str(i)])  \n",
    "                                    \n",
    "            # correction\n",
    "            v_corrected = v\n",
    "            s_corrected = s\n",
    "            v_corrected[\"dW\" + str(i)] = v[\"dW\" + str(i)] /(1-(self.beta1**t))\n",
    "            v_corrected[\"db\" + str(i)] = v[\"db\" + str(i)] /(1-(self.beta1**t))\n",
    "            \n",
    "            s_corrected[\"dW\" + str(i)] = s[\"dW\" + str(i)] /(1-(self.beta2**t))\n",
    "            s_corrected[\"db\" + str(i)] = s[\"db\" + str(i)] /(1-(self.beta2**t))\n",
    "            \n",
    "            parameters[\"dW\" + str(i)] = parameters[\"W\" + str(i)] - self.learning_rate * (v_corrected[\"dW\" + str(i)] / np.sqrt(s_corrected[\"dW\" + str(i)] + self.epsilon))\n",
    "            parameters[\"db\" + str(i)] = parameters[\"b\" + str(i)] - self.learning_rate * (v_corrected[\"db\" + str(i)] / np.sqrt(s_corrected[\"db\" + str(i)] + self.epsilon))\n",
    "            \n",
    "        return parameters, v, s"
   ]
  },
  {
   "cell_type": "markdown",
   "id": "b9790f0f",
   "metadata": {},
   "source": [
    "### Forward Propagation"
   ]
  },
  {
   "cell_type": "code",
   "execution_count": 20,
   "id": "0b10371f",
   "metadata": {},
   "outputs": [],
   "source": [
    "def forward_prop(X, parameters):\n",
    "    \n",
    "    W1 = parameters[\"W1\"]\n",
    "    W2 = parameters[\"W2\"]\n",
    "    W3 = parameters[\"W3\"]\n",
    "    W4 = parameters[\"W4\"]\n",
    "    W5 = parameters[\"W5\"]\n",
    "    b1 = parameters[\"b1\"]\n",
    "    b2 = parameters[\"b2\"]\n",
    "    b3 = parameters[\"b3\"]\n",
    "    b4 = parameters[\"b4\"]\n",
    "    b5 = parameters[\"b5\"]\n",
    "    \n",
    "    Z1 = compute_z(W1, X, b1)\n",
    "    A1 = compute_activation(Z1, \"relu\")\n",
    "    \n",
    "    Z2 = compute_z(W2, A1, b2)\n",
    "    A2 = compute_activation(Z2, \"relu\")\n",
    "    \n",
    "    Z3 = compute_z(W3, A2, b3)\n",
    "    A3 = compute_activation(Z3, \"relu\")\n",
    "    \n",
    "    Z4 = compute_z(W4, A3, b4)\n",
    "    A4 = compute_activation(Z4, \"relu\")\n",
    "    \n",
    "    Z5 = compute_z(W5, A4, b5)\n",
    "    A5 = compute_activation(Z5, \"softmax\")\n",
    "    \n",
    "    cache = {\n",
    "              \"A0\" : X, \n",
    "              \"A1\" : A1,\n",
    "              \"A2\" : A2,\n",
    "              \"A3\" : A3,\n",
    "              \"A4\" : A4,\n",
    "              \"A5\" : A5,\n",
    "              \"Z1\" : Z1,\n",
    "              \"Z2\" : Z2,\n",
    "              \"Z3\" : Z3,\n",
    "              \"Z4\" : Z4,\n",
    "              \"Z5\" : Z5\n",
    "            }\n",
    "            \n",
    "    return cache, parameters"
   ]
  },
  {
   "cell_type": "markdown",
   "id": "52b79f2b",
   "metadata": {},
   "source": [
    "### Backward Propagation"
   ]
  },
  {
   "cell_type": "code",
   "execution_count": 21,
   "id": "5145df5f",
   "metadata": {},
   "outputs": [],
   "source": [
    "def backward_prop(X, Y, cache, parameters):\n",
    "    m = X.shape[1]\n",
    "    \n",
    "    W1 = parameters[\"W1\"]\n",
    "    W2 = parameters[\"W2\"]\n",
    "    W3 = parameters[\"W3\"]\n",
    "    W4 = parameters[\"W4\"]\n",
    "    W5 = parameters[\"W5\"]\n",
    "    b1 = parameters[\"b1\"]\n",
    "    b2 = parameters[\"b2\"]\n",
    "    b3 = parameters[\"b3\"]\n",
    "    b4 = parameters[\"b4\"]\n",
    "    b5 = parameters[\"b5\"]\n",
    "\n",
    "    Z1 = cache[\"Z1\"]\n",
    "    Z2 = cache[\"Z2\"]\n",
    "    Z3 = cache[\"Z3\"]\n",
    "    Z4 = cache[\"Z4\"]\n",
    "    Z5 = cache[\"Z5\"]\n",
    "    A1 = cache[\"A1\"]\n",
    "    A2 = cache[\"A2\"]\n",
    "    A3 = cache[\"A3\"]\n",
    "    A4 = cache[\"A4\"]\n",
    "    A5 = cache[\"A5\"]\n",
    "    \n",
    "    dZ5 = A5 - Y\n",
    "    dW5 = (1/m)*np.dot(dZ5, A4.T)\n",
    "    db5 = (1/m)*np.sum(dZ5, axis = 1, keepdims=True) \n",
    "    \n",
    "    dZ4 = np.dot(W5.T , dZ5) * ReLU_prime(Z4)\n",
    "    dW4 = (1/m)*np.dot(dZ4, A3.T)\n",
    "    db4 = (1/m)*np.sum(dZ4, axis = 1, keepdims=True)\n",
    "\n",
    "    dZ3 = np.dot(W4.T , dZ4) * ReLU_prime(Z3)\n",
    "    dW3 = (1/m)*np.dot(dZ3, A2.T)\n",
    "    db3 = (1/m)*np.sum(dZ3, axis = 1, keepdims=True)\n",
    "    \n",
    "    dZ2 = np.dot(W3.T , dZ3) * ReLU_prime(Z2)\n",
    "    dW2 = (1/m)*np.dot(dZ2, A1.T)\n",
    "    db2 = (1/m)*np.sum(dZ2, axis = 1, keepdims=True)\n",
    "\n",
    "    dZ1 = np.dot(W2.T , dZ2) * ReLU_prime(Z1)\n",
    "    dW1 = (1/m)*np.dot(dZ1, X.T)\n",
    "    db1 = (1/m)*np.sum(dZ1, axis = 1, keepdims=True)\n",
    "    \n",
    "    grads = {\n",
    "              \"dZ1\" : dZ1, \n",
    "              \"dZ2\" : dZ2,\n",
    "              \"dZ3\" : dZ3,\n",
    "              \"dZ4\" : dZ4,\n",
    "              \"dZ5\" : dZ5,\n",
    "              \"dW1\" : dW1, \n",
    "              \"dW2\" : dW2,\n",
    "              \"dW3\" : dW3,\n",
    "              \"dW4\" : dW4,\n",
    "              \"dW5\" : dW5,\n",
    "              \"db1\" : db1,\n",
    "              \"db2\" : db2,\n",
    "              \"db3\" : db3,\n",
    "              \"db4\" : db4,\n",
    "              \"db5\" : db5\n",
    "            }\n",
    "     \n",
    "    return grads"
   ]
  },
  {
   "cell_type": "markdown",
   "id": "72329c08",
   "metadata": {},
   "source": [
    "### Updation using Adam Optimization"
   ]
  },
  {
   "cell_type": "code",
   "execution_count": 22,
   "id": "8e4d9716",
   "metadata": {},
   "outputs": [],
   "source": [
    "def model(X, Y, epoch, learning_rate, n_x, nh_1, nh_2, nh_3, nh_4, n_y):\n",
    "    parameters = weights_initializer(n_x, nh_1, nh_2, nh_3, nh_4, n_y)\n",
    "    adam = adam_optimization(n_x, nh_1, nh_2, nh_3, nh_4, n_y, beta1=0.9, beta2=0.999, epsilon=1e-8, learning_rate=0.01)\n",
    "    v, s = adam.ret_vs()\n",
    "    t=0\n",
    "    for i in range(epoch):\n",
    "        t=t+1\n",
    "        cache, parameters = forward_prop(X, parameters)\n",
    "        grads = backward_prop(X, Y, cache, parameters)\n",
    "        parameters, v, s = adam.update_params(parameters, v, s, grads, t)\n",
    "#         print(f\"Updated Weights: {v}\")\n",
    "        if(i%10 == 0):\n",
    "            print(\"Iteration: \", i)\n",
    "            predictions = get_predictions(cache[\"A5\"])\n",
    "            print(get_accuracy(predictions, Y))\n",
    "    return parameters"
   ]
  },
  {
   "cell_type": "code",
   "execution_count": 23,
   "id": "24c7e377",
   "metadata": {},
   "outputs": [
    {
     "name": "stdout",
     "output_type": "stream",
     "text": [
      "Iteration:  0\n",
      "[3 6 9 ... 3 3 7] [[0. 0. 0. ... 0. 0. 0.]\n",
      " [0. 0. 0. ... 0. 0. 0.]\n",
      " [0. 0. 0. ... 0. 1. 0.]\n",
      " ...\n",
      " [0. 0. 0. ... 0. 0. 0.]\n",
      " [0. 0. 0. ... 0. 0. 1.]\n",
      " [0. 1. 1. ... 0. 0. 0.]]\n",
      "5.25e-05\n",
      "Iteration:  10\n",
      "[3 6 9 ... 3 3 7] [[0. 0. 0. ... 0. 0. 0.]\n",
      " [0. 0. 0. ... 0. 0. 0.]\n",
      " [0. 0. 0. ... 0. 1. 0.]\n",
      " ...\n",
      " [0. 0. 0. ... 0. 0. 0.]\n",
      " [0. 0. 0. ... 0. 0. 1.]\n",
      " [0. 1. 1. ... 0. 0. 0.]]\n",
      "5.25e-05\n",
      "Iteration:  20\n",
      "[3 6 9 ... 3 3 7] [[0. 0. 0. ... 0. 0. 0.]\n",
      " [0. 0. 0. ... 0. 0. 0.]\n",
      " [0. 0. 0. ... 0. 1. 0.]\n",
      " ...\n",
      " [0. 0. 0. ... 0. 0. 0.]\n",
      " [0. 0. 0. ... 0. 0. 1.]\n",
      " [0. 1. 1. ... 0. 0. 0.]]\n",
      "5.25e-05\n"
     ]
    },
    {
     "ename": "KeyboardInterrupt",
     "evalue": "",
     "output_type": "error",
     "traceback": [
      "\u001b[1;31m---------------------------------------------------------------------------\u001b[0m",
      "\u001b[1;31mKeyboardInterrupt\u001b[0m                         Traceback (most recent call last)",
      "Input \u001b[1;32mIn [23]\u001b[0m, in \u001b[0;36m<cell line: 8>\u001b[1;34m()\u001b[0m\n\u001b[0;32m      6\u001b[0m n_y \u001b[38;5;241m=\u001b[39m \u001b[38;5;241m10\u001b[39m\n\u001b[0;32m      7\u001b[0m y_train \u001b[38;5;241m=\u001b[39m one_hot(y_train)\n\u001b[1;32m----> 8\u001b[0m parameters \u001b[38;5;241m=\u001b[39m \u001b[43mmodel\u001b[49m\u001b[43m(\u001b[49m\u001b[43mx_train\u001b[49m\u001b[43m,\u001b[49m\u001b[43m \u001b[49m\u001b[43my_train\u001b[49m\u001b[43m,\u001b[49m\u001b[43m \u001b[49m\u001b[43mepoch\u001b[49m\u001b[38;5;241;43m=\u001b[39;49m\u001b[38;5;241;43m400\u001b[39;49m\u001b[43m,\u001b[49m\u001b[43m \u001b[49m\u001b[43mlearning_rate\u001b[49m\u001b[38;5;241;43m=\u001b[39;49m\u001b[38;5;241;43m0.01\u001b[39;49m\u001b[43m,\u001b[49m\u001b[43m \u001b[49m\u001b[43mn_x\u001b[49m\u001b[38;5;241;43m=\u001b[39;49m\u001b[43mn_x\u001b[49m\u001b[43m,\u001b[49m\u001b[43m \u001b[49m\u001b[43mnh_1\u001b[49m\u001b[38;5;241;43m=\u001b[39;49m\u001b[43mn_h1\u001b[49m\u001b[43m,\u001b[49m\u001b[43m \u001b[49m\u001b[43mnh_2\u001b[49m\u001b[38;5;241;43m=\u001b[39;49m\u001b[43mn_h2\u001b[49m\u001b[43m,\u001b[49m\u001b[43m \u001b[49m\u001b[43mnh_3\u001b[49m\u001b[38;5;241;43m=\u001b[39;49m\u001b[43mn_h3\u001b[49m\u001b[43m,\u001b[49m\u001b[43m \u001b[49m\u001b[43mnh_4\u001b[49m\u001b[38;5;241;43m=\u001b[39;49m\u001b[43mn_h4\u001b[49m\u001b[43m,\u001b[49m\u001b[43m \u001b[49m\u001b[43mn_y\u001b[49m\u001b[38;5;241;43m=\u001b[39;49m\u001b[43mn_y\u001b[49m\u001b[43m)\u001b[49m\n",
      "Input \u001b[1;32mIn [22]\u001b[0m, in \u001b[0;36mmodel\u001b[1;34m(X, Y, epoch, learning_rate, n_x, nh_1, nh_2, nh_3, nh_4, n_y)\u001b[0m\n\u001b[0;32m      6\u001b[0m \u001b[38;5;28;01mfor\u001b[39;00m i \u001b[38;5;129;01min\u001b[39;00m \u001b[38;5;28mrange\u001b[39m(epoch):\n\u001b[0;32m      7\u001b[0m     t\u001b[38;5;241m=\u001b[39mt\u001b[38;5;241m+\u001b[39m\u001b[38;5;241m1\u001b[39m\n\u001b[1;32m----> 8\u001b[0m     cache, parameters \u001b[38;5;241m=\u001b[39m \u001b[43mforward_prop\u001b[49m\u001b[43m(\u001b[49m\u001b[43mX\u001b[49m\u001b[43m,\u001b[49m\u001b[43m \u001b[49m\u001b[43mparameters\u001b[49m\u001b[43m)\u001b[49m\n\u001b[0;32m      9\u001b[0m     grads \u001b[38;5;241m=\u001b[39m backward_prop(X, Y, cache, parameters)\n\u001b[0;32m     10\u001b[0m     parameters, v, s \u001b[38;5;241m=\u001b[39m adam\u001b[38;5;241m.\u001b[39mupdate_params(parameters, v, s, grads, t)\n",
      "Input \u001b[1;32mIn [20]\u001b[0m, in \u001b[0;36mforward_prop\u001b[1;34m(X, parameters)\u001b[0m\n\u001b[0;32m     11\u001b[0m b4 \u001b[38;5;241m=\u001b[39m parameters[\u001b[38;5;124m\"\u001b[39m\u001b[38;5;124mb4\u001b[39m\u001b[38;5;124m\"\u001b[39m]\n\u001b[0;32m     12\u001b[0m b5 \u001b[38;5;241m=\u001b[39m parameters[\u001b[38;5;124m\"\u001b[39m\u001b[38;5;124mb5\u001b[39m\u001b[38;5;124m\"\u001b[39m]\n\u001b[1;32m---> 14\u001b[0m Z1 \u001b[38;5;241m=\u001b[39m \u001b[43mcompute_z\u001b[49m\u001b[43m(\u001b[49m\u001b[43mW1\u001b[49m\u001b[43m,\u001b[49m\u001b[43m \u001b[49m\u001b[43mX\u001b[49m\u001b[43m,\u001b[49m\u001b[43m \u001b[49m\u001b[43mb1\u001b[49m\u001b[43m)\u001b[49m\n\u001b[0;32m     15\u001b[0m A1 \u001b[38;5;241m=\u001b[39m compute_activation(Z1, \u001b[38;5;124m\"\u001b[39m\u001b[38;5;124mrelu\u001b[39m\u001b[38;5;124m\"\u001b[39m)\n\u001b[0;32m     17\u001b[0m Z2 \u001b[38;5;241m=\u001b[39m compute_z(W2, A1, b2)\n",
      "Input \u001b[1;32mIn [18]\u001b[0m, in \u001b[0;36mcompute_z\u001b[1;34m(W, X, b)\u001b[0m\n\u001b[0;32m     54\u001b[0m \u001b[38;5;28;01mdef\u001b[39;00m \u001b[38;5;21mcompute_z\u001b[39m(W, X, b):\n\u001b[1;32m---> 55\u001b[0m     \u001b[38;5;28;01mreturn\u001b[39;00m \u001b[43mnp\u001b[49m\u001b[38;5;241;43m.\u001b[39;49m\u001b[43mdot\u001b[49m\u001b[43m(\u001b[49m\u001b[43mW\u001b[49m\u001b[43m,\u001b[49m\u001b[43m \u001b[49m\u001b[43mX\u001b[49m\u001b[43m)\u001b[49m \u001b[38;5;241m+\u001b[39m b\n",
      "File \u001b[1;32m<__array_function__ internals>:180\u001b[0m, in \u001b[0;36mdot\u001b[1;34m(*args, **kwargs)\u001b[0m\n",
      "\u001b[1;31mKeyboardInterrupt\u001b[0m: "
     ]
    }
   ],
   "source": [
    "n_x = x_train.shape[0]\n",
    "n_h1 = 50\n",
    "n_h2 = 40\n",
    "n_h3 = 30\n",
    "n_h4 = 20\n",
    "n_y = 10\n",
    "y_train = one_hot(y_train)\n",
    "parameters = model(x_train, y_train, epoch=400, learning_rate=0.01, n_x=n_x, nh_1=n_h1, nh_2=n_h2, nh_3=n_h3, nh_4=n_h4, n_y=n_y)"
   ]
  },
  {
   "cell_type": "code",
   "execution_count": null,
   "id": "ca67a683",
   "metadata": {},
   "outputs": [],
   "source": [
    "def make_predictions(X, parameters):\n",
    "    cache, parameters = forward_prop(X, parameters)\n",
    "    predictions = get_predictions(cache[\"A5\"])\n",
    "    return predictions\n",
    "\n",
    "def test_prediction(index, parameters):\n",
    "    current_image = x_test[:, index, None]\n",
    "    prediction = make_predictions(x_test[:, index, None], parameters)\n",
    "    label = y_test[index]\n",
    "    print(\"Prediction: \", prediction)\n",
    "    print(\"Label: \", label)\n",
    "    \n",
    "    current_image = current_image.reshape((3, 32, 32))\n",
    "    current_image = current_image.transpose([1,2,0])\n",
    "    plt.gray()\n",
    "    plt.imshow(current_image, interpolation='nearest')\n",
    "    plt.show()"
   ]
  },
  {
   "cell_type": "code",
   "execution_count": null,
   "id": "5edc6586",
   "metadata": {},
   "outputs": [],
   "source": [
    "test_prediction(9085, parameters)"
   ]
  },
  {
   "cell_type": "code",
   "execution_count": null,
   "id": "2f01ff87",
   "metadata": {},
   "outputs": [],
   "source": [
    "batch_label"
   ]
  },
  {
   "cell_type": "code",
   "execution_count": null,
   "id": "7342a2b4",
   "metadata": {},
   "outputs": [],
   "source": []
  }
 ],
 "metadata": {
  "kernelspec": {
   "display_name": "gpu2",
   "language": "python",
   "name": "gpu2"
  },
  "language_info": {
   "codemirror_mode": {
    "name": "ipython",
    "version": 3
   },
   "file_extension": ".py",
   "mimetype": "text/x-python",
   "name": "python",
   "nbconvert_exporter": "python",
   "pygments_lexer": "ipython3",
   "version": "3.9.12"
  }
 },
 "nbformat": 4,
 "nbformat_minor": 5
}
